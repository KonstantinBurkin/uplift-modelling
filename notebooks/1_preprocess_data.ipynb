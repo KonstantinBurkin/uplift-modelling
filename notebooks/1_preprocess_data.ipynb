{
 "cells": [
  {
   "cell_type": "markdown",
   "metadata": {},
   "source": [
    "### Imports"
   ]
  },
  {
   "cell_type": "code",
   "execution_count": 61,
   "metadata": {},
   "outputs": [],
   "source": [
    "import polars as pl\n",
    "import pandas as pd\n",
    "from scipy import stats\n",
    "import numpy as np\n",
    "import joblib\n",
    "import os\n",
    "from sklearn.model_selection import train_test_split\n",
    "from sklearn.linear_model import (\n",
    "    LinearRegression,\n",
    "    LogisticRegression,\n",
    ")\n",
    "from sklearn.experimental import enable_iterative_imputer\n",
    "from sklearn.impute import IterativeImputer"
   ]
  },
  {
   "cell_type": "markdown",
   "metadata": {},
   "source": [
    "### Constants"
   ]
  },
  {
   "cell_type": "code",
   "execution_count": 64,
   "metadata": {},
   "outputs": [],
   "source": [
    "RANDOM_STATE = 1\n",
    "FILES_DIR = \"../data\"\n",
    "os.makedirs(FILES_DIR, exist_ok=True)"
   ]
  },
  {
   "cell_type": "markdown",
   "metadata": {},
   "source": [
    "### Read data"
   ]
  },
  {
   "cell_type": "code",
   "execution_count": 9,
   "metadata": {},
   "outputs": [],
   "source": [
    "df = pd.read_excel(\n",
    "    \"../data/БЛОК ГЕН ФИНАЛ.xlsx\",\n",
    "    index_col=0,\n",
    "    header=1,  # [0, 1],\n",
    ").reset_index(drop=True)"
   ]
  },
  {
   "cell_type": "code",
   "execution_count": 10,
   "metadata": {},
   "outputs": [],
   "source": [
    "column_mapping = {\n",
    "    \"Возраст\": \"Age\",\n",
    "    \"Индекс коморбидности по Charlson\": \"Comorbidity Index\",\n",
    "    \"Поражение СТВОЛА ЛКА\": \"Left Main Coronary Artery Lesion\",\n",
    "    \"Поражение коронарных артерий\": \"Coronary Artery Lesion\",\n",
    "    \"P2Y12-интибитор\": \"P2Y12 inhibitor\",\n",
    "    \"Комбинированная конечная точка\": \"combined\",\n",
    "    \"Покрытие стентов BMS-1 / DES-2\": \"BMS or DES\",\n",
    "    \"Любой CYP2C19\": \"All Negative CYP2C19\",\n",
    "}"
   ]
  },
  {
   "cell_type": "code",
   "execution_count": 11,
   "metadata": {},
   "outputs": [],
   "source": [
    "df = df[list(column_mapping.keys())].rename(columns=column_mapping)"
   ]
  },
  {
   "cell_type": "code",
   "execution_count": 12,
   "metadata": {},
   "outputs": [
    {
     "data": {
      "text/plain": [
       "Age                                  0\n",
       "Comorbidity Index                    0\n",
       "Left Main Coronary Artery Lesion     2\n",
       "Coronary Artery Lesion               1\n",
       "P2Y12 inhibitor                      0\n",
       "combined                             0\n",
       "BMS or DES                          11\n",
       "All Negative CYP2C19                 0\n",
       "dtype: int64"
      ]
     },
     "execution_count": 12,
     "metadata": {},
     "output_type": "execute_result"
    }
   ],
   "source": [
    "df.isna().sum()"
   ]
  },
  {
   "cell_type": "code",
   "execution_count": 16,
   "metadata": {},
   "outputs": [
    {
     "data": {
      "text/plain": [
       "['Comorbidity Index',\n",
       " 'Left Main Coronary Artery Lesion',\n",
       " 'Coronary Artery Lesion']"
      ]
     },
     "execution_count": 16,
     "metadata": {},
     "output_type": "execute_result"
    }
   ],
   "source": [
    "[col for col in df.columns if col in categorical]"
   ]
  },
  {
   "cell_type": "code",
   "execution_count": 17,
   "metadata": {},
   "outputs": [],
   "source": [
    "numerical = sorted(\n",
    "    [\n",
    "        \"Age\",\n",
    "    ]\n",
    ")\n",
    "binary = sorted(\n",
    "    [\n",
    "        \"BMS or DES\",\n",
    "        \"All Negative CYP2C19\",\n",
    "        \"P2Y12 inhibitor\",\n",
    "    ]\n",
    ")\n",
    "categorical = sorted(\n",
    "    [\n",
    "        \"Comorbidity Index\",\n",
    "        \"Left Main Coronary Artery Lesion\",\n",
    "        \"Coronary Artery Lesion\",\n",
    "    ]\n",
    ")  # ,'CYP2C19_2','CYP2C19_3','CYP2C19_17'])"
   ]
  },
  {
   "cell_type": "code",
   "execution_count": 22,
   "metadata": {},
   "outputs": [],
   "source": [
    "df = df[sorted(df.columns.values)]\n",
    "not_use = [\"combined\"]\n",
    "X_train, X_test, y_train, y_test = train_test_split(\n",
    "    df.drop(not_use, axis=1).copy(),\n",
    "    df[not_use].copy(),\n",
    "    test_size=0.25,\n",
    "    random_state=RANDOM_STATE,\n",
    ")"
   ]
  },
  {
   "cell_type": "markdown",
   "metadata": {},
   "source": [
    "### Analyze outliers"
   ]
  },
  {
   "cell_type": "code",
   "execution_count": 31,
   "metadata": {},
   "outputs": [],
   "source": [
    "def detect_numerical_outliers(df, cols, z_thresh=3):\n",
    "    # Copy the dataframe to avoid changes to the original data\n",
    "    outliers = pd.DataFrame()\n",
    "    for col in cols:\n",
    "        if (\n",
    "            df[col].isnull().sum() / len(df) < 0.5\n",
    "        ):  # Skip columns with more than 50% missing values\n",
    "            df.fillna({col: df[col].median()}, inplace=True)\n",
    "            z_scores = np.abs(stats.zscore(df[col]))\n",
    "            outliers[col] = z_scores > z_thresh\n",
    "    return outliers"
   ]
  },
  {
   "cell_type": "code",
   "execution_count": 32,
   "metadata": {},
   "outputs": [],
   "source": [
    "def detect_categorical_outliers(df, cols, threshold=0.01):\n",
    "    outliers = pd.DataFrame()\n",
    "    for col in cols:\n",
    "        frequencies = df[col].value_counts(normalize=True)\n",
    "        rare_categories = frequencies[frequencies < threshold].index\n",
    "        outliers[col] = df[col].isin(rare_categories)\n",
    "    return outliers"
   ]
  },
  {
   "cell_type": "code",
   "execution_count": 36,
   "metadata": {},
   "outputs": [],
   "source": [
    "# Example usage\n",
    "numerical_outliers = detect_numerical_outliers(df.copy(), numerical)\n",
    "categorical_outliers = detect_categorical_outliers(df.copy(), [categorical + binary])\n",
    "\n",
    "# Combine the outlier information\n",
    "outliers = pd.concat([numerical_outliers, categorical_outliers], axis=1)"
   ]
  },
  {
   "cell_type": "code",
   "execution_count": 37,
   "metadata": {},
   "outputs": [],
   "source": [
    "for col in categorical:\n",
    "    res = df[col][categorical_outliers[col]]\n",
    "    if len(res) > 0:\n",
    "        print(res)"
   ]
  },
  {
   "cell_type": "markdown",
   "metadata": {},
   "source": [
    "### Imputation"
   ]
  },
  {
   "cell_type": "code",
   "execution_count": 39,
   "metadata": {},
   "outputs": [],
   "source": [
    "f = 0\n",
    "for i in numerical + binary + categorical:\n",
    "    if i not in X_test.columns:\n",
    "        print(i)\n",
    "        f = 1\n",
    "if f == 1:\n",
    "    raise Exception(\"Not assigned column type\")"
   ]
  },
  {
   "cell_type": "code",
   "execution_count": 40,
   "metadata": {},
   "outputs": [],
   "source": [
    "X_train.loc[:, sorted(categorical + binary)] = (\n",
    "    X_train[sorted(categorical + binary)].fillna(-1).astype(int)\n",
    ")\n",
    "X_test.loc[:, sorted(categorical + binary)] = (\n",
    "    X_test[sorted(categorical + binary)].fillna(-1).astype(int)\n",
    ")"
   ]
  },
  {
   "cell_type": "code",
   "execution_count": 41,
   "metadata": {},
   "outputs": [],
   "source": [
    "X_train.loc[:, sorted(categorical + binary)] = X_train.loc[\n",
    "    :, sorted(categorical + binary)\n",
    "].astype(int)\n",
    "X_test.loc[:, sorted(categorical + binary)] = X_test.loc[\n",
    "    :, sorted(categorical + binary)\n",
    "].astype(int)"
   ]
  },
  {
   "cell_type": "code",
   "execution_count": 47,
   "metadata": {},
   "outputs": [
    {
     "name": "stdout",
     "output_type": "stream",
     "text": [
      "Total number of nan values: 0\n"
     ]
    }
   ],
   "source": [
    "def mice_impute_data(\n",
    "    data_imputers_train,\n",
    "    data_imputers_test,\n",
    "    numerical=numerical,\n",
    "    categorical=categorical,\n",
    "    binary=binary,\n",
    "):\n",
    "\n",
    "    # Separate the data into numerical, categorical, and binary columns\n",
    "    numerical_cols = numerical\n",
    "    categorical_cols = categorical\n",
    "    binary_cols = binary\n",
    "    non_numerical = sorted(categorical_cols + binary_cols)\n",
    "\n",
    "    # data_imputers_train['LV Infarct Size'] = data_imputers_train['LV Infarct Size'].fillna(data_imputers_train['LV Infarct Size'].max())\n",
    "\n",
    "    nums = [\n",
    "        data_imputers_train.columns.get_loc(numerical[x]) for x in range(len(numerical))\n",
    "    ]\n",
    "\n",
    "    # Impute numerical columns using linear regression\n",
    "    imputer_num = IterativeImputer(\n",
    "        estimator=LinearRegression(), max_iter=100, skip_complete=True\n",
    "    )\n",
    "    data_imputers_train.loc[:, numerical_cols] = imputer_num.fit_transform(\n",
    "        data_imputers_train\n",
    "    )[:, nums]\n",
    "    data_imputers_test.loc[:, numerical_cols] = imputer_num.transform(\n",
    "        data_imputers_test\n",
    "    )[:, nums]\n",
    "\n",
    "    # data_imputers_train[binary_cols + categorical_cols] = data_imputers_train[binary_cols + categorical_cols].fillna(-1).astype(int)\n",
    "    # data_imputers_test[binary_cols + categorical_cols] = data_imputers_test[binary_cols + categorical_cols].fillna(-1).astype(int)\n",
    "    cat = [\n",
    "        data_imputers_train.columns.get_loc((non_numerical)[x])\n",
    "        for x in range(len((non_numerical)))\n",
    "    ]\n",
    "    # Impute binary columns using logistic regression\n",
    "    imputer_bin = IterativeImputer(\n",
    "        estimator=LogisticRegression(solver=\"liblinear\"),\n",
    "        max_iter=100,\n",
    "        skip_complete=True,\n",
    "        missing_values=-1,\n",
    "    )\n",
    "    # data_imputers_train[data_imputers_train.columns] = imputer_bin.fit_transform(data_imputers_train)\n",
    "    # data_imputers_test[data_imputers_test.columns] = imputer_bin.transform(data_imputers_test)\n",
    "    data_imputers_train.loc[:, non_numerical] = imputer_bin.fit_transform(\n",
    "        data_imputers_train\n",
    "    )[:, cat]\n",
    "    data_imputers_test.loc[:, non_numerical] = imputer_bin.transform(\n",
    "        data_imputers_test\n",
    "    )[:, cat]\n",
    "\n",
    "    return data_imputers_train, data_imputers_test\n",
    "\n",
    "\n",
    "# Example usage\n",
    "imputed_train, imputed_test = mice_impute_data(X_train.copy(), X_test.copy())\n",
    "imputed_train.isna().sum().sum()\n",
    "print(f\"Total number of nan values: {imputed_train.isna().sum().sum()}\")"
   ]
  },
  {
   "cell_type": "code",
   "execution_count": 48,
   "metadata": {},
   "outputs": [
    {
     "name": "stdout",
     "output_type": "stream",
     "text": [
      "Distribution shift not detected.\n"
     ]
    }
   ],
   "source": [
    "import numpy as np\n",
    "import pandas as pd\n",
    "from scipy.stats import ks_2samp\n",
    "from scipy.stats import chi2_contingency\n",
    "\n",
    "\n",
    "def check_distribution_shift(df1, df2, numerical=numerical):\n",
    "    \"\"\"\n",
    "    Check for distribution shift between two dataframes using the Kolmogorov-Smirnov test for each variable.\n",
    "\n",
    "    Args:\n",
    "        df1 (pandas.DataFrame): First dataframe.\n",
    "        df2 (pandas.DataFrame): Second dataframe.\n",
    "\n",
    "    Returns:\n",
    "        dict: Dictionary with variable names as keys and True/False indicating distribution shift.\n",
    "    \"\"\"\n",
    "    variables = set(df1.columns).intersection(df2.columns)\n",
    "    shift_results = {}\n",
    "\n",
    "    for variable in variables:\n",
    "        data1 = df1[variable].values\n",
    "        data2 = df2[variable].values\n",
    "        stat, p_value = ks_2samp(data1, data2)\n",
    "\n",
    "        # Check significance level (commonly set to 0.05)\n",
    "        alpha = 0.01\n",
    "\n",
    "        # If p-value is less than the significance level, distribution shift is detected\n",
    "        if p_value < alpha:\n",
    "            shift_results[variable] = True\n",
    "        else:\n",
    "            shift_results[variable] = False\n",
    "\n",
    "    return shift_results\n",
    "\n",
    "\n",
    "shift_results = check_distribution_shift(imputed_train.dropna(), X_train)\n",
    "\n",
    "for variable, is_shift in shift_results.items():\n",
    "    if is_shift == True:\n",
    "        print(f\"Distribution shift detected for {variable}: {is_shift}\")\n",
    "\n",
    "if True not in shift_results.values():\n",
    "    print(\"Distribution shift not detected.\")"
   ]
  },
  {
   "cell_type": "code",
   "execution_count": 56,
   "metadata": {},
   "outputs": [],
   "source": [
    "X_train = imputed_train[sorted(imputed_train.columns)]\n",
    "X_test = imputed_test[sorted(imputed_train.columns)]\n",
    "y_train = y_train[\"combined\"]\n",
    "y_test = y_test[\"combined\"]"
   ]
  },
  {
   "cell_type": "code",
   "execution_count": 57,
   "metadata": {},
   "outputs": [],
   "source": [
    "cat_features = sorted(binary + categorical)\n",
    "X_train[cat_features] = X_train[cat_features].astype(int)\n",
    "X_test[cat_features] = X_test[cat_features].astype(int)"
   ]
  },
  {
   "cell_type": "code",
   "execution_count": 67,
   "metadata": {},
   "outputs": [
    {
     "data": {
      "text/plain": [
       "['All Negative CYP2C19',\n",
       " 'BMS or DES',\n",
       " 'Comorbidity Index',\n",
       " 'Coronary Artery Lesion',\n",
       " 'Left Main Coronary Artery Lesion',\n",
       " 'P2Y12 inhibitor']"
      ]
     },
     "execution_count": 67,
     "metadata": {},
     "output_type": "execute_result"
    }
   ],
   "source": [
    "cat_features"
   ]
  },
  {
   "cell_type": "code",
   "execution_count": 58,
   "metadata": {},
   "outputs": [
    {
     "data": {
      "text/plain": [
       "0.0"
      ]
     },
     "execution_count": 58,
     "metadata": {},
     "output_type": "execute_result"
    }
   ],
   "source": [
    "X_train[X_train == -1].sum().sum()"
   ]
  },
  {
   "cell_type": "code",
   "execution_count": 59,
   "metadata": {},
   "outputs": [
    {
     "data": {
      "text/plain": [
       "0.0"
      ]
     },
     "execution_count": 59,
     "metadata": {},
     "output_type": "execute_result"
    }
   ],
   "source": [
    "X_test[X_test == -1].sum().sum()"
   ]
  },
  {
   "cell_type": "markdown",
   "metadata": {},
   "source": [
    "### Save data"
   ]
  },
  {
   "cell_type": "code",
   "execution_count": 66,
   "metadata": {},
   "outputs": [
    {
     "data": {
      "text/plain": [
       "['../data/xy_train_test.joblib']"
      ]
     },
     "execution_count": 66,
     "metadata": {},
     "output_type": "execute_result"
    }
   ],
   "source": [
    "# Saving model\n",
    "file_name = \"xy_train_test.joblib\"\n",
    "file_path = os.path.join(FILES_DIR, file_name)\n",
    "joblib.dump(\n",
    "    {\n",
    "        \"X_test\": X_test,\n",
    "        \"X_train\": X_train,\n",
    "        \"y_train\": y_train,\n",
    "        \"y_test\": y_test,\n",
    "    },\n",
    "    file_path,\n",
    ")"
   ]
  }
 ],
 "metadata": {
  "kernelspec": {
   "display_name": ".venv",
   "language": "python",
   "name": "python3"
  },
  "language_info": {
   "codemirror_mode": {
    "name": "ipython",
    "version": 3
   },
   "file_extension": ".py",
   "mimetype": "text/x-python",
   "name": "python",
   "nbconvert_exporter": "python",
   "pygments_lexer": "ipython3",
   "version": "3.12.7"
  }
 },
 "nbformat": 4,
 "nbformat_minor": 2
}
